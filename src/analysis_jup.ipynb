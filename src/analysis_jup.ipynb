{
 "cells": [
  {
   "cell_type": "code",
   "execution_count": 1,
   "metadata": {},
   "outputs": [
    {
     "name": "stdout",
     "output_type": "stream",
     "text": [
      "/home/gabrielpitali/Documents/tg-eng-info\n"
     ]
    }
   ],
   "source": [
    "# Change directory to VSCode workspace root so that relative path loads work correctly. Turn this addition off with the DataScience.changeDirOnImportExport setting\n",
    "# ms-python.python added\n",
    "import os\n",
    "try:\n",
    "\tos.chdir(os.path.join(os.getcwd(), '..'))\n",
    "\tprint(os.getcwd())\n",
    "except:\n",
    "\tpass\n"
   ]
  },
  {
   "cell_type": "code",
   "execution_count": 32,
   "metadata": {},
   "outputs": [],
   "source": [
    "import pandas as pd\n",
    "import numpy as np\n",
    "import json\n",
    "\n",
    "if 1 == 0:\n",
    "  faces_path = 'src/result_faces_scaleFactor_13_minNeighbors_5_minSize_30_30.json'\n",
    "  no_faces_path = 'src/result_no_faces_scaleFactor_13_minNeighbors_5_minSize_30_30.json'\n",
    "  test_check = 1\n",
    "else:\n",
    "  faces_path = 'src/result_faces_scaleFactor_105_minNeighbors_3_minSize_30_30.json'\n",
    "  no_faces_path = 'src/result_no_faces_scaleFactor_105_minNeighbors_3_minSize_30_30.json'\n",
    "  test_check = 1\n",
    "\n",
    "with open(faces_path) as json_file:\n",
    "  result_faces = json.load(json_file)\n",
    "result_faces[\"raw_result\"] = result_faces[\"raw_result\"][:17130]\n",
    "#print(len(result_faces[\"raw_result\"]))\n",
    "\n",
    "with open(no_faces_path) as json_file:\n",
    "  result_no_faces = json.load(json_file)\n",
    "result_no_faces[\"raw_result\"] = result_no_faces[\"raw_result\"][:17130]\n",
    "#print(len(result_no_faces[\"raw_result\"]))\n"
   ]
  },
  {
   "cell_type": "code",
   "execution_count": 33,
   "metadata": {},
   "outputs": [
    {
     "name": "stdout",
     "output_type": "stream",
     "text": [
      "=== Faces Dataset ===\n",
      "283 images with 0 faces (1.6520723876240513%)\n",
      "8789 images with 1 faces (51.30764740221833%)\n",
      "16847 images with 1 or more faces (98.34792761237595%)\n",
      "8058 images with 2 or more faces (47.04028021015762%)\n",
      "=== No Faces Dataset ===\n",
      "11373 images with 0 faces (66.3922942206655%)\n",
      "4269 images with 1 faces (24.92119089316988%)\n",
      "5757 images with 1 or more faces (33.6077057793345%)\n",
      "1488 images with 2 or more faces (8.686514886164623%)\n"
     ]
    }
   ],
   "source": [
    "# Count faces\n",
    "\n",
    "def add_counts(result_data):\n",
    "  result_data[\"count_imgs\"] = len(result_data[\"raw_result\"])\n",
    "  result_data[\"count_0\"] = 0\n",
    "  result_data[\"count_1\"] = 0\n",
    "  result_data[\"count_2\"] = 0\n",
    "  result_data[\"count_1+\"] = 0\n",
    "  for img in result_data[\"raw_result\"]:\n",
    "      if img[\"face_count\"] == 0:\n",
    "        result_data[\"count_0\"] += 1\n",
    "      elif img[\"face_count\"] == 1:\n",
    "        result_data[\"count_1\"] += 1\n",
    "        result_data[\"count_1+\"] += 1\n",
    "      else:\n",
    "        result_data[\"count_2\"] += 1\n",
    "        result_data[\"count_1+\"] += 1\n",
    "  print(str(result_data[\"count_0\"]) + \" images with 0 faces (\" + str(result_data[\"count_0\"] * 100 / result_data[\"count_imgs\"]) + \"%)\")\n",
    "  print(str(result_data[\"count_1\"]) + \" images with 1 faces (\" + str(result_data[\"count_1\"]*100/result_data[\"count_imgs\"]) + \"%)\")\n",
    "  print(str(result_data[\"count_1+\"]) + \" images with 1 or more faces (\" + str(result_data[\"count_1+\"]*100/result_data[\"count_imgs\"]) + \"%)\")\n",
    "  print(str(result_data[\"count_2\"]) + \" images with 2 or more faces (\" + str(result_data[\"count_2\"]*100/result_data[\"count_imgs\"]) + \"%)\")\n",
    "\n",
    "print(\"=== Faces Dataset ===\")\n",
    "add_counts(result_faces)\n",
    "\n",
    "print(\"=== No Faces Dataset ===\")\n",
    "add_counts(result_no_faces)\n"
   ]
  },
  {
   "cell_type": "code",
   "execution_count": 34,
   "metadata": {},
   "outputs": [
    {
     "name": "stdout",
     "output_type": "stream",
     "text": [
      "sensibilidade\n",
      "0.9834792761237595\n",
      "especificidade\n",
      "0.663922942206655\n"
     ]
    },
    {
     "data": {
      "text/html": [
       "<div>\n",
       "<style scoped>\n",
       "    .dataframe tbody tr th:only-of-type {\n",
       "        vertical-align: middle;\n",
       "    }\n",
       "\n",
       "    .dataframe tbody tr th {\n",
       "        vertical-align: top;\n",
       "    }\n",
       "\n",
       "    .dataframe thead th {\n",
       "        text-align: right;\n",
       "    }\n",
       "</style>\n",
       "<table border=\"1\" class=\"dataframe\">\n",
       "  <thead>\n",
       "    <tr style=\"text-align: right;\">\n",
       "      <th></th>\n",
       "      <th>(B) Face (previsto)</th>\n",
       "      <th>(xB) Não Face (previsto)</th>\n",
       "      <th></th>\n",
       "    </tr>\n",
       "  </thead>\n",
       "  <tbody>\n",
       "    <tr>\n",
       "      <th>(A) Face (real)</th>\n",
       "      <td>49.173964</td>\n",
       "      <td>0.826036</td>\n",
       "      <td>50.000000</td>\n",
       "    </tr>\n",
       "    <tr>\n",
       "      <th>(xA) Não Face (real)</th>\n",
       "      <td>16.803853</td>\n",
       "      <td>33.196147</td>\n",
       "      <td>50.000000</td>\n",
       "    </tr>\n",
       "    <tr>\n",
       "      <th></th>\n",
       "      <td>65.977817</td>\n",
       "      <td>34.022183</td>\n",
       "      <td>0.022658</td>\n",
       "    </tr>\n",
       "  </tbody>\n",
       "</table>\n",
       "</div>"
      ],
      "text/plain": [
       "                      (B) Face (previsto)  (xB) Não Face (previsto)           \n",
       "(A) Face (real)                 49.173964                  0.826036  50.000000\n",
       "(xA) Não Face (real)            16.803853                 33.196147  50.000000\n",
       "                                65.977817                 34.022183   0.022658"
      ]
     },
     "execution_count": 34,
     "metadata": {},
     "output_type": "execute_result"
    }
   ],
   "source": [
    "from sklearn.metrics import confusion_matrix\n",
    "\n",
    "y_true = ([\"face\"] * result_faces[\"count_imgs\"]) + ([\"nao_face\"] * result_no_faces[\"count_imgs\"])\n",
    "y_pred = ([\"face\"] * result_faces[\"count_1+\"]) + ([\"nao_face\"] * result_faces[\"count_0\"]) + ([\"face\"] * result_no_faces[\"count_1+\"]) + ([\"nao_face\"] * result_no_faces[\"count_0\"])\n",
    "\n",
    "assert len(y_true) == len(y_pred), \"Mesmo número de items existentes e previstos\"\n",
    "\n",
    "matrix = confusion_matrix(y_true, y_pred, labels=[\"face\", \"nao_face\"])\n",
    "\n",
    "tp, fn, fp, tn = [i/len(y_true) for i in matrix.ravel()]\n",
    "\n",
    "result_print = np.array([[tp, fn, (tp+fn)],\n",
    "                         [fp, tn, (fp+tn)],\n",
    "                         [(tp+fp), (fn+tn), (tp*fn*fp*tn)]]) *100\n",
    "\n",
    "print(\"sensibilidade\")\n",
    "print(tp / (tp + fn))\n",
    "print(\"especificidade\")\n",
    "print(tn / (tn + fp))\n",
    "pd.DataFrame(result_print, columns=[\"(B) Face (previsto)\", \"(xB) Não Face (previsto)\", \"\"], index=[\"(A) Face (real)\", \"(xA) Não Face (real)\", \"\"])\n"
   ]
  },
  {
   "cell_type": "code",
   "execution_count": 24,
   "metadata": {},
   "outputs": [
    {
     "name": "stdout",
     "output_type": "stream",
     "text": [
      "-9.697114100209347\n"
     ]
    }
   ],
   "source": [
    "\n",
    "h = 0.5 # Manual analysis cost for each picture\n",
    "v = 250.37 # Approved customer value\n",
    "\n",
    "g0 = (tp+fn)*v - (tp+fp+fn+tn)*h\n",
    "g1 = tp*v - (tp+fp)*h\n",
    "\n",
    "g1 = tp*v - (tp+fp)*h\n",
    "\n",
    "#for i in range(1,5):\n",
    "#  g1 += (0.5**i)*fn*(tp*v - (tp+fp)*h)\n",
    "\n",
    "print(g1 - g0)\n",
    "\n",
    "#print((fn+tn)/fn)\n",
    "#print(v/h)\n",
    "\n",
    "#print(h_cost*(fn+tn) - fn*c_value)\n"
   ]
  },
  {
   "cell_type": "markdown",
   "execution_count": null,
   "metadata": {},
   "outputs": [],
   "source": [
    "# This is a test cell"
   ]
  },
  {
   "cell_type": "markdown",
   "execution_count": null,
   "metadata": {},
   "outputs": [],
   "source": [
    "To see how git handle the diff"
   ]
  },
  {
   "cell_type": "code",
   "execution_count": null,
   "metadata": {},
   "outputs": [],
   "source": []
  }
 ],
 "metadata": {
  "file_extension": ".py",
  "kernelspec": {
   "display_name": "Python 3",
   "language": "python",
   "name": "python3"
  },
  "language_info": {
   "codemirror_mode": {
    "name": "ipython",
    "version": 3
   },
   "file_extension": ".py",
   "mimetype": "text/x-python",
   "name": "python",
   "nbconvert_exporter": "python",
   "pygments_lexer": "ipython3",
   "version": "3.7.3"
  },
  "mimetype": "text/x-python",
  "name": "python",
  "npconvert_exporter": "python",
  "pygments_lexer": "ipython3",
  "version": 3
 },
 "nbformat": 4,
 "nbformat_minor": 2
}