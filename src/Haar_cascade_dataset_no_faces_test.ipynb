{
  "nbformat": 4,
  "nbformat_minor": 0,
  "metadata": {
    "orig_nbformat": 2,
    "file_extension": ".py",
    "mimetype": "text/x-python",
    "name": "python",
    "npconvert_exporter": "python",
    "pygments_lexer": "ipython3",
    "version": 3,
    "colab": {
      "name": "Haar_cascade_dataset_no_faces_test.ipynb",
      "version": "0.3.2",
      "provenance": [],
      "collapsed_sections": [],
      "toc_visible": true,
      "machine_shape": "hm"
    },
    "kernelspec": {
      "name": "python3",
      "display_name": "Python 3"
    },
    "accelerator": "TPU"
  },
  "cells": [
    {
      "cell_type": "code",
      "metadata": {
        "id": "r_WMu77hOZYc",
        "colab_type": "code",
        "colab": {}
      },
      "source": [
        "# Uncoment this when running on google colab\n",
        "!apt-get -qq install -y libsm6 libxext6\n",
        "!pip install -q -U opencv-python"
      ],
      "execution_count": 0,
      "outputs": []
    },
    {
      "cell_type": "code",
      "metadata": {
        "id": "2_JVeL33M371",
        "colab_type": "code",
        "colab": {}
      },
      "source": [
        "import cv2\n",
        "import matplotlib.pyplot as plt\n",
        "import time\n",
        "import os\n",
        "get_ipython().run_line_magic('matplotlib', 'inline')\n",
        "\n",
        "# Change working directory from the workspace root to the ipynb file location.\n",
        "try:\n",
        "\tos.chdir(os.path.join(os.getcwd(), 'src'))\n",
        "\tprint(os.getcwd())\n",
        "except:\n",
        "\tpass\n",
        "\n"
      ],
      "execution_count": 0,
      "outputs": []
    },
    {
      "cell_type": "code",
      "metadata": {
        "id": "vk60RJ1QNHd0",
        "colab_type": "code",
        "colab": {}
      },
      "source": [
        "from google.colab import drive\n",
        "drive.mount('/content/drive')"
      ],
      "execution_count": 0,
      "outputs": []
    },
    {
      "cell_type": "code",
      "metadata": {
        "id": "8ve1kJbHM373",
        "colab_type": "code",
        "colab": {}
      },
      "source": [
        "# Base variables\n",
        "training_file_path = '/content/drive/My Drive/Documentos/UFABC/TG/haarcascade_frontalface_default.xml'\n",
        "no_faces_dataset_path_zip = '/content/drive/My Drive/Documentos/UFABC/TG/hotel50k.tar.gz'\n",
        "no_faces_dataset_path = '/content/hotel50k'\n",
        "haar_face_cascade = cv2.CascadeClassifier(training_file_path)\n",
        "example_img_path = '/content/drive/My Drive/Documentos/UFABC/TG/test1.jpg'\n",
        "example_img = cv2.imread(example_img_path)\n",
        "\n"
      ],
      "execution_count": 0,
      "outputs": []
    },
    {
      "cell_type": "code",
      "metadata": {
        "id": "X4T5X4hwPAkd",
        "colab_type": "code",
        "colab": {}
      },
      "source": [
        "# Unzip dataset\n",
        "import tarfile\n",
        "tar = tarfile.open(no_faces_dataset_path_zip, \"r:gz\")\n",
        "tar.extractall()\n",
        "tar.close()"
      ],
      "execution_count": 0,
      "outputs": []
    },
    {
      "cell_type": "code",
      "metadata": {
        "id": "IowJckgJTtGy",
        "colab_type": "code",
        "outputId": "bcbb7039-a637-4c35-82ad-dcd441fa550e",
        "colab": {
          "base_uri": "https://localhost:8080/",
          "height": 51
        }
      },
      "source": [
        "# Check unzip\n",
        "print(len([name for name in os.listdir(no_faces_dataset_path)]))\n",
        "!ls /content/hotel50k | wc -l"
      ],
      "execution_count": 0,
      "outputs": [
        {
          "output_type": "stream",
          "text": [
            "17149\n",
            "17149\n"
          ],
          "name": "stdout"
        }
      ]
    },
    {
      "cell_type": "code",
      "metadata": {
        "id": "7ahK0Vg1M376",
        "colab_type": "code",
        "colab": {}
      },
      "source": [
        "# Base functions\n",
        "\n",
        "def detect_faces(f_cascade, img, scaleFactor = 1.1):\n",
        "    #just making a copy of image passed, so that passed image is not changed\n",
        "    img_copy = img.copy()\n",
        "    #convert the test image to gray image as opencv face detector expects gray images\n",
        "    gray = cv2.cvtColor(img_copy, cv2.COLOR_BGR2GRAY)       \n",
        "    #let's detect multiscale (some images may be closer to camera than others) images\n",
        "    faces = f_cascade.detectMultiScale(gray, scaleFactor=1.05, minNeighbors=3, minSize=(30,30))\n",
        "    return faces\n",
        "\n",
        "# go over list of faces and draw them as rectangles on original colored img\n",
        "def print_faces(img, faces):\n",
        "    img_copy = cv2.cvtColor(img.copy(), cv2.COLOR_BGR2RGB)\n",
        "    for (x, y, w, h) in faces:\n",
        "        cv2.rectangle(img_copy, (x, y), (x+w, y+h), (0, 255, 0), 2)\n",
        "        plt.figure()\n",
        "    plt.imshow(img_copy)\n",
        "    return\n",
        "\n",
        "def load_element_image(element):\n",
        "  element[\"image\"] = cv2.imread(element[\"path\"])\n",
        "  return element\n",
        "\n",
        "def detect_faces_from_element(element):\n",
        "    element[\"faces\"] = detect_faces(haar_face_cascade, element[\"image\"])\n",
        "    element[\"face_count\"] = len(element[\"faces\"])\n",
        "    return element\n",
        "  \n",
        "def load_and_detect_faces(element):\n",
        "  element[\"faces\"] = detect_faces(haar_face_cascade, cv2.imread(element[\"path\"]))\n",
        "  element[\"face_count\"] = len(element[\"faces\"])\n",
        "\n",
        "def filter_age(img_list, range_start, range_end):\n",
        "    img_list[:] = [x for x in img_list if (range_start <= x[\"age\"] <= range_end)]\n"
      ],
      "execution_count": 0,
      "outputs": []
    },
    {
      "cell_type": "code",
      "metadata": {
        "id": "00x7oYqsM37_",
        "colab_type": "code",
        "outputId": "0fe1262d-8338-4276-89b4-ce214ac48bef",
        "colab": {
          "base_uri": "https://localhost:8080/",
          "height": 51
        }
      },
      "source": [
        "# Create a list of images\n",
        "img_name_list = os.listdir(no_faces_dataset_path)\n",
        "img_name_list.sort()\n",
        "#img_name_list = img_name_list[:100]\n",
        "img_list = []\n",
        "start_time = time.time()\n",
        "for img_name in img_name_list:\n",
        "  try:\n",
        "    img_list.append({\n",
        "        \"name\": img_name,\n",
        "        \"path\": no_faces_dataset_path + \"/\" + img_name,\n",
        "    })\n",
        "  except:\n",
        "    print(img_name)\n",
        "print(time.time() - start_time)\n",
        "count_imgs = len(img_list)\n",
        "print(count_imgs)\n"
      ],
      "execution_count": 0,
      "outputs": [
        {
          "output_type": "stream",
          "text": [
            "0.018832921981811523\n",
            "17149\n"
          ],
          "name": "stdout"
        }
      ]
    },
    {
      "cell_type": "code",
      "metadata": {
        "id": "xT1bFqxKIgWm",
        "colab_type": "code",
        "outputId": "f055f1bc-995c-4795-9307-44f7d8534f5c",
        "colab": {
          "base_uri": "https://localhost:8080/",
          "height": 51
        }
      },
      "source": [
        "# Load and detect faces from the list\n",
        "   \n",
        "start_time = time.time()\n",
        "counter=0\n",
        "for img in img_list:\n",
        "    counter=counter+1\n",
        "    eta = (time.time() - start_time)*(count_imgs - counter)/counter\n",
        "    print(\"\\r\" + str(counter) + \" eta = \" + str(eta), end = ' ')\n",
        "    load_and_detect_faces(img)\n",
        "\n",
        "print(\" \")\n",
        "print(time.time() - start_time)"
      ],
      "execution_count": 0,
      "outputs": [
        {
          "output_type": "stream",
          "text": [
            "17149 eta = 0.0  \n",
            "1860.6667308807373\n"
          ],
          "name": "stdout"
        }
      ]
    },
    {
      "cell_type": "code",
      "metadata": {
        "id": "yn2_8uTGM38I",
        "colab_type": "code",
        "outputId": "7be4ca06-0917-4f76-ae61-60727c7dddd5",
        "colab": {
          "base_uri": "https://localhost:8080/",
          "height": 68
        }
      },
      "source": [
        "# Show results\n",
        "\n",
        "count_0=0\n",
        "count_1=0\n",
        "count_2=0\n",
        "for img in img_list:\n",
        "    if img[\"face_count\"] == 0:\n",
        "      count_0 += 1\n",
        "    elif img[\"face_count\"] == 1:\n",
        "      count_1 += 1\n",
        "    else:\n",
        "      count_2 += 1\n",
        "\n",
        "print(str(count_0) + \" images with 0 faces (\" + str(count_0*100/count_imgs) + \"%)\")\n",
        "print(str(count_1) + \" images with 1 faces (\" + str(count_1*100/count_imgs) + \"%)\")\n",
        "print(str(count_2) + \" images with 2 or more faces (\" + str(count_2*100/count_imgs) + \"%)\")"
      ],
      "execution_count": 0,
      "outputs": [
        {
          "output_type": "stream",
          "text": [
            "11388 images with 0 faces (66.40620444340777%)\n",
            "4271 images with 1 faces (24.90524228818007%)\n",
            "1490 images with 2 or more faces (8.688553268412152%)\n"
          ],
          "name": "stdout"
        }
      ]
    },
    {
      "cell_type": "code",
      "metadata": {
        "id": "_rvMwvhYpBMX",
        "colab_type": "code",
        "colab": {}
      },
      "source": [
        "# Show 10 faces\n",
        "\n",
        "for img in img_list[:10]:\n",
        "  if img[\"face_count\"] > 0:\n",
        "    print_faces(cv2.imread(img[\"path\"]), img[\"faces\"])"
      ],
      "execution_count": 0,
      "outputs": []
    },
    {
      "cell_type": "code",
      "metadata": {
        "id": "CP1y7xMWPiV7",
        "colab_type": "code",
        "colab": {}
      },
      "source": [
        "# Export results\n",
        "\n",
        "import json\n",
        "\n",
        "img_list_clean = []\n",
        "for img in img_list:\n",
        "  img_copy = img.copy()\n",
        "  del img_copy[\"faces\"]\n",
        "  img_list_clean.append(img_copy)\n",
        "\n",
        "result = {\"raw_result\": img_list_clean}\n",
        "with open('result_no_faces_scaleFactor_105_minNeighbors_3_minSize_30_30.json', 'w') as fp:\n",
        "    json.dump(result, fp)"
      ],
      "execution_count": 0,
      "outputs": []
    }
  ]
}